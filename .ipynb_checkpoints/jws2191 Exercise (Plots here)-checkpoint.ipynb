{
 "cells": [
  {
   "cell_type": "markdown",
   "metadata": {},
   "source": [
    "# Exercise\n",
    "## Joseph Skimmons, jws2191\n",
    "This file contains the plots. My implementation is in the source code that is being imported in each of these cells\n",
    "\n",
    "1. tsp/TSPGame.py has the game actions that are performed during MCTS and the training of the GNN\n",
    "2. tsp/TSPLogic.py has the logic for how TSP is represented in this implementation\n",
    "3. tsp/NNetShell.py has the pure MCTS implementation using a greedy approach to the pi vector\n",
    "4. tsp/TSPGNN.py has a basic GNN implementation using Pytorch Geometric (inspired by https://github.com/flixpar/AlphaTSP/blob/master/notebooks/policynet.ipynb)\n",
    "5. TSPMCTS.py has the MCTS implementation for use with the GNN\n",
    "6. PureMCTS.py has the MCTS implementation for the baseline (no GNN)\n",
    "7. TSPCoach.py is used to train the GNN through self play\n",
    "8. tsp/TSPNNet.py is used to train and get predictions from the GNN\n",
    "\n",
    "The code is forked from:\n",
    "AlphaZero general: https://github.com/suragnair/alpha-zero-general"
   ]
  },
  {
   "cell_type": "code",
   "execution_count": 6,
   "metadata": {},
   "outputs": [],
   "source": [
    "from tsp.TSPGame import TSPGame as Game\n",
    "from tsp.NNetShell import NNetShell\n",
    "from PureMCTS import PureMCTS\n",
    "from tqdm import tqdm\n",
    "import matplotlib.pyplot as plt\n",
    "import numpy as np\n",
    "from utils import *"
   ]
  },
  {
   "cell_type": "code",
   "execution_count": 7,
   "metadata": {},
   "outputs": [],
   "source": [
    "sample_sizes = [10, 25, 50, 100, 200]\n",
    "pct_won = []"
   ]
  },
  {
   "cell_type": "markdown",
   "metadata": {},
   "source": [
    "## Pure MCTS using a Greedy Approach to the PI vector"
   ]
  },
  {
   "cell_type": "code",
   "execution_count": 9,
   "metadata": {},
   "outputs": [
    {
     "name": "stderr",
     "output_type": "stream",
     "text": [
      "100%|██████████| 5/5 [00:01<00:00,  3.55it/s]\n",
      "100%|██████████| 5/5 [00:04<00:00,  1.24it/s]\n",
      "100%|██████████| 5/5 [00:09<00:00,  1.90s/it]\n",
      "100%|██████████| 5/5 [00:23<00:00,  4.62s/it]\n",
      "100%|██████████| 5/5 [00:42<00:00,  8.43s/it]\n"
     ]
    }
   ],
   "source": [
    "for size in sample_sizes:\n",
    "    args = dotdict({\n",
    "        'numEps': 5,              # Number of complete self-play games to simulate during a new iteration.\n",
    "        'numMCTSSims': size,          # Number of games moves for MCTS to simulate.\n",
    "        'cpuct': 1,\n",
    "    })\n",
    "    game = Game(10)\n",
    "    nnet = NNetShell(game)\n",
    "    wins, losses = 0, 0\n",
    "    player = 1\n",
    "    for i in tqdm(range(args.numEps)):\n",
    "        board = game.getInitBoard()\n",
    "        mcts = PureMCTS(args, game, nnet)\n",
    "        while game.getGameEnded(board, player) == 0:\n",
    "            canon = game.getCanonicalForm(board, player)\n",
    "            ap = mcts.getActionProb(canon, temp=1)\n",
    "            action = np.argmax(ap)\n",
    "            valid_moves = game.getValidMoves(canon, player)\n",
    "            if valid_moves[action] == 0:\n",
    "                exit(1)\n",
    "            board, player = game.getNextState(board, player, action)\n",
    "        actions = [game.start_node]\n",
    "        if game.getGameEnded(board, player) == 1:\n",
    "            wins += 1\n",
    "        else:\n",
    "            losses += 1\n",
    "    pct = wins / (wins + losses)\n",
    "    pct_won.append(pct)"
   ]
  },
  {
   "cell_type": "markdown",
   "metadata": {},
   "source": [
    "## Plot for 10 Node Games (No GNN)\n",
    "A \"won\" game is within 1.1 of the optimal path length"
   ]
  },
  {
   "cell_type": "code",
   "execution_count": 10,
   "metadata": {},
   "outputs": [
    {
     "data": {
      "image/png": "[encoded data removed]",
      "text/plain": [
       "<Figure size 432x288 with 1 Axes>"
      ]
     },
     "metadata": {
      "needs_background": "light"
     },
     "output_type": "display_data"
    }
   ],
   "source": [
    "plt.xlabel('Number of MCTS Simulations', fontsize=18)\n",
    "plt.ylabel('Percentage of Games Won', fontsize=16)\n",
    "plt.scatter(sample_sizes,pct_won)\n",
    "plt.plot(sample_sizes,pct_won)\n",
    "plt.show()"
   ]
  },
  {
   "cell_type": "markdown",
   "metadata": {},
   "source": [
    "## Next, I trained a basic GNN to predict the policy and reward (pi, v) for each state"
   ]
  },
  {
   "cell_type": "code",
   "execution_count": 3,
   "metadata": {},
   "outputs": [
    {
     "name": "stdout",
     "output_type": "stream",
     "text": [
      "------ ITER 1------\n",
      "------ Self Play Episode 0------\n",
      "------ Self Play Episode 1------\n",
      "------ Self Play Episode 2------\n",
      "------ Self Play Episode 3------\n",
      "------ Self Play Episode 4------\n",
      "------ Self Play Episode 5------\n",
      "------ Self Play Episode 6------\n",
      "------ Self Play Episode 7------\n",
      "------ Self Play Episode 8------\n",
      "------ Self Play Episode 9------\n",
      "Beginning Training\n",
      "epoch 0 training loss 0.03945012018084526\n",
      "epoch 1 training loss 0.055943187326192856\n",
      "epoch 2 training loss 0.0526953861117363\n",
      "epoch 3 training loss 0.04365067929029465\n",
      "epoch 4 training loss 0.08314826339483261\n",
      "epoch 5 training loss 0.09510445594787598\n",
      "epoch 6 training loss 0.09297744184732437\n",
      "epoch 7 training loss 0.0856131762266159\n",
      "epoch 8 training loss 0.1123058944940567\n",
      "epoch 9 training loss 0.12599167227745056\n",
      "epoch 10 training loss 0.15009082853794098\n",
      "epoch 11 training loss 0.18575483560562134\n",
      "epoch 12 training loss 0.139054536819458\n",
      "epoch 13 training loss 0.16288413107395172\n",
      "epoch 14 training loss 0.20294462144374847\n",
      "epoch 15 training loss 0.28560346364974976\n",
      "epoch 16 training loss 0.272563099861145\n",
      "epoch 17 training loss 0.30072757601737976\n",
      "epoch 18 training loss 0.274150550365448\n",
      "epoch 19 training loss 0.30579593777656555\n",
      "PLAYING GAMES\n",
      "------ ITER 2------\n",
      "------ Self Play Episode 0------\n",
      "------ Self Play Episode 1------\n",
      "------ Self Play Episode 2------\n",
      "------ Self Play Episode 3------\n",
      "------ Self Play Episode 4------\n",
      "------ Self Play Episode 5------\n",
      "------ Self Play Episode 6------\n",
      "------ Self Play Episode 7------\n",
      "------ Self Play Episode 8------\n",
      "------ Self Play Episode 9------\n",
      "Beginning Training\n",
      "epoch 0 training loss 0.35324105620384216\n",
      "epoch 1 training loss 0.40129613876342773\n",
      "epoch 2 training loss 0.4584011137485504\n",
      "epoch 3 training loss 0.5177903175354004\n",
      "epoch 4 training loss 0.6164163947105408\n",
      "epoch 5 training loss 0.6722866296768188\n",
      "epoch 6 training loss 0.541989803314209\n",
      "epoch 7 training loss 0.6332719326019287\n",
      "epoch 8 training loss 0.5373165011405945\n",
      "epoch 9 training loss 0.6304676532745361\n",
      "epoch 10 training loss 0.8002479076385498\n",
      "epoch 11 training loss 0.5615087747573853\n",
      "epoch 12 training loss 1.0923506021499634\n",
      "epoch 13 training loss 0.8158029913902283\n",
      "epoch 14 training loss 0.8465678095817566\n",
      "epoch 15 training loss 1.0651776790618896\n",
      "epoch 16 training loss 1.131899118423462\n",
      "epoch 17 training loss 1.1532604694366455\n",
      "epoch 18 training loss 0.7944849729537964\n",
      "epoch 19 training loss 1.0890319347381592\n",
      "PLAYING GAMES\n",
      "------ ITER 3------\n",
      "------ Self Play Episode 0------\n",
      "------ Self Play Episode 1------\n",
      "------ Self Play Episode 2------\n",
      "------ Self Play Episode 3------\n",
      "------ Self Play Episode 4------\n",
      "------ Self Play Episode 5------\n",
      "------ Self Play Episode 6------\n",
      "------ Self Play Episode 7------\n",
      "------ Self Play Episode 8------\n",
      "------ Self Play Episode 9------\n",
      "Beginning Training\n",
      "epoch 0 training loss 1.243295431137085\n",
      "epoch 1 training loss 1.0698258876800537\n",
      "epoch 2 training loss 1.2638132572174072\n",
      "epoch 3 training loss 1.4172245264053345\n",
      "epoch 4 training loss 1.6646655797958374\n",
      "epoch 5 training loss 2.436239004135132\n",
      "epoch 6 training loss 1.786434292793274\n",
      "epoch 7 training loss 2.5085623264312744\n",
      "epoch 8 training loss 1.1032907962799072\n",
      "epoch 9 training loss 2.4648497104644775\n",
      "epoch 10 training loss 1.0217105150222778\n",
      "epoch 11 training loss 1.5186864137649536\n",
      "epoch 12 training loss 1.1021374464035034\n",
      "epoch 13 training loss 1.729952335357666\n",
      "epoch 14 training loss 1.1295746564865112\n",
      "epoch 15 training loss 1.4527580738067627\n",
      "epoch 16 training loss 1.481312870979309\n",
      "epoch 17 training loss 1.6555547714233398\n",
      "epoch 18 training loss 2.285295009613037\n",
      "epoch 19 training loss 1.266862154006958\n",
      "PLAYING GAMES\n"
     ]
    }
   ],
   "source": [
    "from TSPCoach import TSPCoach\n",
    "from tsp.TSPGame import TSPGame as Game\n",
    "from tsp.TSPNNet import NNetWrapper as nn\n",
    "from utils import *\n",
    "\n",
    "args = dotdict({\n",
    "    'numIters': 3,\n",
    "    'numEps': 10,              # Number of complete self-play games to simulate during a new iteration.\n",
    "    'tempThreshold': 15,        #\n",
    "    'updateThreshold': 0.6,     # During arena playoff, new neural net will be accepted if threshold or more of games are won.\n",
    "    'maxlenOfQueue': 1000,    # Number of game examples to train the neural networks.\n",
    "    'numMCTSSims': 200,          # Number of games moves for MCTS to simulate.\n",
    "    'arenaCompare': 0,         # Number of games to play during arena play to determine if new net will be accepted.\n",
    "    'cpuct': 1,\n",
    "    'numItersForTrainExamplesHistory': 2000,\n",
    "\n",
    "})\n",
    "game = Game(10)\n",
    "nnet = nn(game)\n",
    "c = TSPCoach(args, game, nnet)\n",
    "c.learn()"
   ]
  },
  {
   "cell_type": "code",
   "execution_count": 4,
   "metadata": {},
   "outputs": [],
   "source": [
    "sample_sizes = [10, 25, 50, 100, 200]\n",
    "pct_won = []"
   ]
  },
  {
   "cell_type": "code",
   "execution_count": 14,
   "metadata": {},
   "outputs": [
    {
     "name": "stderr",
     "output_type": "stream",
     "text": [
      "\n",
      "\n",
      "  0%|          | 0/5 [00:00<?, ?it/s]\u001b[A\u001b[A\n",
      "\n",
      " 20%|██        | 1/5 [00:03<00:14,  3.55s/it]\u001b[A\u001b[A\n",
      "\n",
      " 40%|████      | 2/5 [00:07<00:10,  3.61s/it]\u001b[A\u001b[A\n",
      "\n",
      " 60%|██████    | 3/5 [00:11<00:07,  3.78s/it]\u001b[A\u001b[A\n",
      "\n",
      " 80%|████████  | 4/5 [00:15<00:03,  3.82s/it]\u001b[A\u001b[A\n",
      "\n",
      "100%|██████████| 5/5 [00:19<00:00,  3.83s/it]\u001b[A\u001b[A\n",
      "\n",
      "\n",
      "  0%|          | 0/5 [00:00<?, ?it/s]\u001b[A\u001b[A\n",
      "\n",
      " 20%|██        | 1/5 [00:11<00:47, 11.81s/it]\u001b[A\u001b[A\n",
      "\n",
      " 40%|████      | 2/5 [00:22<00:34, 11.52s/it]\u001b[A\u001b[A\n",
      "\n",
      " 60%|██████    | 3/5 [00:34<00:23, 11.52s/it]\u001b[A\u001b[A\n",
      "\n",
      " 80%|████████  | 4/5 [00:45<00:11, 11.56s/it]\u001b[A\u001b[A\n",
      "\n",
      "100%|██████████| 5/5 [00:58<00:00, 11.76s/it]\u001b[A\u001b[A\n",
      "\n",
      "\n",
      "  0%|          | 0/5 [00:00<?, ?it/s]\u001b[A\u001b[A\n",
      "\n",
      " 20%|██        | 1/5 [00:27<01:48, 27.19s/it]\u001b[A\u001b[A\n",
      "\n",
      " 40%|████      | 2/5 [00:59<01:26, 28.68s/it]\u001b[A\u001b[A\n",
      "\n",
      " 60%|██████    | 3/5 [01:30<00:58, 29.38s/it]\u001b[A\u001b[A\n",
      "\n",
      " 80%|████████  | 4/5 [02:05<00:31, 31.10s/it]\u001b[A\u001b[A\n",
      "\n",
      "100%|██████████| 5/5 [02:44<00:00, 32.97s/it]\u001b[A\u001b[A\n",
      "\n",
      "\n",
      "  0%|          | 0/5 [00:00<?, ?it/s]\u001b[A\u001b[A\n",
      "\n",
      " 20%|██        | 1/5 [01:09<04:37, 69.41s/it]\u001b[A\u001b[A\n",
      "\n",
      " 40%|████      | 2/5 [02:19<03:28, 69.57s/it]\u001b[A\u001b[A\n",
      "\n",
      " 60%|██████    | 3/5 [03:18<02:12, 66.46s/it]\u001b[A\u001b[A\n",
      "\n",
      " 80%|████████  | 4/5 [04:18<01:04, 64.54s/it]\u001b[A\u001b[A\n",
      "\n",
      "100%|██████████| 5/5 [05:16<00:00, 63.32s/it]\u001b[A\u001b[A\n",
      "\n",
      "\n",
      "  0%|          | 0/5 [00:00<?, ?it/s]\u001b[A\u001b[A\n",
      "\n",
      " 20%|██        | 1/5 [02:19<09:17, 139.46s/it]\u001b[A\u001b[A\n",
      "\n",
      " 40%|████      | 2/5 [04:32<06:52, 137.45s/it]\u001b[A\u001b[A\n",
      "\n",
      " 60%|██████    | 3/5 [06:56<04:38, 139.46s/it]\u001b[A\u001b[A\n",
      "\n",
      " 80%|████████  | 4/5 [09:06<02:16, 136.63s/it]\u001b[A\u001b[A\n",
      "\n",
      "100%|██████████| 5/5 [11:15<00:00, 135.13s/it]\u001b[A\u001b[A\n"
     ]
    }
   ],
   "source": [
    "from tsp.TSPGame import TSPGame as Game\n",
    "from TSPMCTS import TSPMCTS\n",
    "import numpy as np\n",
    "\n",
    "for size in sample_sizes:\n",
    "    args = dotdict({\n",
    "        'numIters': 1,\n",
    "        'numEps': 5,  # Number of complete self-play games to simulate during a new iteration.\n",
    "        'tempThreshold': 15,  #\n",
    "        'maxlenOfQueue': 1000,  # Number of game examples to train the neural networks.\n",
    "        'numMCTSSims': size,  # Number of games moves for MCTS to simulate.\n",
    "        'cpuct': 1,\n",
    "        'numItersForTrainExamplesHistory': 2000,\n",
    "    })\n",
    "    game = Game(20)\n",
    "    wins, losses = 0, 0\n",
    "    player = 1\n",
    "    for i in tqdm(range(args.numEps)):\n",
    "        board = game.getInitBoard()\n",
    "        mcts = TSPMCTS(args, game, nnet)\n",
    "        while game.getGameEnded(board, player) == 0:\n",
    "            canon = game.getCanonicalForm(board, player)\n",
    "            ap = mcts.getActionProb(canon, temp=1)\n",
    "            action = np.argmax(ap)\n",
    "            valid_moves = game.getValidMoves(canon, player)\n",
    "            if valid_moves[action] == 0:\n",
    "                exit(1)\n",
    "            board, player = game.getNextState(board, player, action)\n",
    "        actions = [game.start_node]\n",
    "        if game.getGameEnded(board, player) == 1:\n",
    "            wins += 1\n",
    "        else:\n",
    "            losses += 1\n",
    "        pct = wins / (wins + losses)\n",
    "        pct_won.append(pct)"
   ]
  },
  {
   "cell_type": "markdown",
   "metadata": {},
   "source": [
    "## Plot for 20 Node Games\n",
    "A \"won\" game is within 1.1 of the optimal path length"
   ]
  },
  {
   "cell_type": "code",
   "execution_count": 20,
   "metadata": {},
   "outputs": [
    {
     "data": {
      "image/png": "[encoded data removed]",
      "text/plain": [
       "<Figure size 432x288 with 1 Axes>"
      ]
     },
     "metadata": {
      "needs_background": "light"
     },
     "output_type": "display_data"
    }
   ],
   "source": [
    "import matplotlib.pyplot as plt\n",
    "plt.xlabel('Number of MCTS Simulations', fontsize=18)\n",
    "plt.ylabel('Percentage of Games Won', fontsize=16)\n",
    "plt.scatter(sample_sizes,pct_won[:5])\n",
    "plt.plot(sample_sizes,pct_won[:5])\n",
    "plt.show()"
   ]
  },
  {
   "cell_type": "markdown",
   "metadata": {},
   "source": [
    "Note: It appears my policy and reward vectors were not working well enough to win any 20 node games. If I could have continued working, I would have traing on more self-play games, and would have gone deeper than 200 simulations. The training data was rising, so my model was not learning very well. It is possible 200 was not deep enough to see any optimal solutions in the 10 node games, and as a result no reward was given so the pi and v values were not shaped correctly through the training of the GNN. Another option would be to use the Pi vector from my greedy approach (as with the 10 node plot in the beginning, which was performing well) and to have a GNN only predict the v values for any given board state."
   ]
  },
  {
   "cell_type": "code",
   "execution_count": null,
   "metadata": {},
   "outputs": [],
   "source": []
  }
 ],
 "metadata": {
  "kernelspec": {
   "display_name": "alphago-tsp",
   "language": "python",
   "name": "alphago-tsp"
  },
  "language_info": {
   "codemirror_mode": {
    "name": "ipython",
    "version": 3
   },
   "file_extension": ".py",
   "mimetype": "text/x-python",
   "name": "python",
   "nbconvert_exporter": "python",
   "pygments_lexer": "ipython3",
   "version": "3.7.7"
  }
 },
 "nbformat": 4,
 "nbformat_minor": 2
}
